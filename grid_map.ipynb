{
 "cells": [
  {
   "cell_type": "code",
   "execution_count": 1,
   "metadata": {},
   "outputs": [
    {
     "ename": "ModuleNotFoundError",
     "evalue": "No module named 'pathfinding'",
     "output_type": "error",
     "traceback": [
      "\u001b[1;31m---------------------------------------------------------------------------\u001b[0m",
      "\u001b[1;31mModuleNotFoundError\u001b[0m                       Traceback (most recent call last)",
      "Cell \u001b[1;32mIn[1], line 2\u001b[0m\n\u001b[0;32m      1\u001b[0m \u001b[38;5;28;01mimport\u001b[39;00m \u001b[38;5;21;01mnumpy\u001b[39;00m\n\u001b[1;32m----> 2\u001b[0m \u001b[38;5;28;01mfrom\u001b[39;00m \u001b[38;5;21;01mpathfinding\u001b[39;00m\u001b[38;5;21;01m.\u001b[39;00m\u001b[38;5;21;01mcore\u001b[39;00m\u001b[38;5;21;01m.\u001b[39;00m\u001b[38;5;21;01mdiagonal_movement\u001b[39;00m \u001b[38;5;28;01mimport\u001b[39;00m DiagonalMovement\n\u001b[0;32m      3\u001b[0m \u001b[38;5;28;01mfrom\u001b[39;00m \u001b[38;5;21;01mpathfinding\u001b[39;00m\u001b[38;5;21;01m.\u001b[39;00m\u001b[38;5;21;01mcore\u001b[39;00m\u001b[38;5;21;01m.\u001b[39;00m\u001b[38;5;21;01mgrid\u001b[39;00m \u001b[38;5;28;01mimport\u001b[39;00m Grid\n\u001b[0;32m      4\u001b[0m \u001b[38;5;28;01mfrom\u001b[39;00m \u001b[38;5;21;01mpathfinding\u001b[39;00m\u001b[38;5;21;01m.\u001b[39;00m\u001b[38;5;21;01mfinder\u001b[39;00m\u001b[38;5;21;01m.\u001b[39;00m\u001b[38;5;21;01ma_star\u001b[39;00m \u001b[38;5;28;01mimport\u001b[39;00m AStarFinder\n",
      "\u001b[1;31mModuleNotFoundError\u001b[0m: No module named 'pathfinding'"
     ]
    }
   ],
   "source": [
    "import numpy\n",
    "from pathfinding.core.diagonal_movement import DiagonalMovement\n",
    "from pathfinding.core.grid import Grid\n",
    "from pathfinding.finder.a_star import AStarFinder\n",
    "import matplotlib.pyplot as plt\n",
    "\n",
    "\n",
    "\n",
    "\n",
    "def _add_block(g: numpy.ndarray, x: int, y: int, padding: int):\n",
    "    for i in range(x - padding, x + padding):\n",
    "        for j in range(y - padding, y + padding):\n",
    "            g[j][i] = 0\n",
    "\n",
    "\"\"\"Test performance.\"\"\"\n",
    "# Get a 500 x 500 grid\n",
    "grid = numpy.ones((500, 500), numpy.int32)\n",
    "\n",
    "# Add a block at the center\n",
    "_add_block(grid, 250, 250, 50)\n",
    "\n",
    "finder_grid = Grid(matrix=grid)\n",
    "start = finder_grid.node(0, 0)\n",
    "end = finder_grid.node(400, 400)\n",
    "\n",
    "finder = AStarFinder(diagonal_movement=DiagonalMovement.never)\n",
    "path, runs = finder.find_path(start, end, finder_grid)\n",
    "\n",
    "# print runs, path\n",
    "print(runs)\n",
    "print(path)\n",
    "\n",
    "# update grid\n",
    "for p in path:\n",
    "    grid[p.y][p.x] = 0\n",
    "\n",
    "\n",
    "plt.rcParams['figure.figsize'] = [10, 10] # increase size of image so we can see the path\n",
    "plt.matshow(grid)"
   ]
  }
 ],
 "metadata": {
  "kernelspec": {
   "display_name": "Python 3",
   "language": "python",
   "name": "python3"
  },
  "language_info": {
   "codemirror_mode": {
    "name": "ipython",
    "version": 3
   },
   "file_extension": ".py",
   "mimetype": "text/x-python",
   "name": "python",
   "nbconvert_exporter": "python",
   "pygments_lexer": "ipython3",
   "version": "3.12.5"
  }
 },
 "nbformat": 4,
 "nbformat_minor": 2
}
